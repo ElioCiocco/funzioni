{
 "cells": [
  {
   "cell_type": "markdown",
   "metadata": {},
   "source": [
    "# Programmazione orientata a oggetti\n",
    "Object oriented programming\n"
   ]
  },
  {
   "cell_type": "markdown",
   "metadata": {},
   "source": [
    "## definizione della classe Retta"
   ]
  },
  {
   "cell_type": "code",
   "execution_count": 56,
   "metadata": {},
   "outputs": [],
   "source": [
    "class RettaDuePunti():\n",
    "    def __init__(self,ax,ay,bx,by):\n",
    "        self.x1=ax\n",
    "        self.y1=ay\n",
    "        self.x2=bx\n",
    "        self.y2=by\n",
    "        self.m=(by-ay)/(bx-ax)\n",
    "        self.q= ay-(self.m*ax)\n",
    "    def pendenza(self):\n",
    "        return(self.m)\n",
    "\n",
    "    def ordinataOrigine(self):\n",
    "        return(self.q)\n",
    "    \n",
    "    def y(self,x):\n",
    "        y=self.m*x+self.q\n",
    "        return(y)\n",
    "    \n",
    "    def x(self,y):\n",
    "        x=(y-self.q)/self.m\n",
    "        return(x)\n",
    "\n",
    "    def zero(self):\n",
    "        zero=self.x(0)\n",
    "        return(zero)\n",
    "\n",
    "    def Area (self,x1,x2):\n",
    "        Area=((self.y(x2)+self.y(x1))*(x2-x1))/2\n",
    "        return(Area)\n",
    "\n",
    "        \n",
    "\n",
    "\n"
   ]
  },
  {
   "cell_type": "markdown",
   "metadata": {},
   "source": [
    "## reazione di un oggetto"
   ]
  },
  {
   "cell_type": "code",
   "execution_count": 57,
   "metadata": {},
   "outputs": [],
   "source": [
    "r=RettaDuePunti(5,2,4,8)\n",
    "s=RettaDuePunti(-3,1,2,5)"
   ]
  },
  {
   "cell_type": "markdown",
   "metadata": {},
   "source": [
    "## Utilizzazione di un oggetto"
   ]
  },
  {
   "cell_type": "code",
   "execution_count": 60,
   "metadata": {},
   "outputs": [
    {
     "name": "stdout",
     "output_type": "stream",
     "text": [
      "-6.0\n",
      "32.0\n",
      "2.0\n",
      "5.0\n",
      "5.333333333333333\n",
      "28.0\n",
      "-20.0\n",
      "-16.0\n"
     ]
    }
   ],
   "source": [
    "print(r.pendenza())\n",
    "print(r.ordinataOrigine())\n",
    "print(r.y(5))\n",
    "print(r.x(2))\n",
    "print(r.zero())\n",
    "print(r.Area(2,4))\n",
    "print(r.Area(6,8))\n",
    "print(r.Area(4,8))\n",
    "\n"
   ]
  },
  {
   "cell_type": "code",
   "execution_count": null,
   "metadata": {},
   "outputs": [],
   "source": []
  }
 ],
 "metadata": {
  "kernelspec": {
   "display_name": "Python 3 (ipykernel)",
   "language": "python",
   "name": "python3"
  },
  "language_info": {
   "codemirror_mode": {
    "name": "ipython",
    "version": 3
   },
   "file_extension": ".py",
   "mimetype": "text/x-python",
   "name": "python",
   "nbconvert_exporter": "python",
   "pygments_lexer": "ipython3",
   "version": "3.12.1"
  }
 },
 "nbformat": 4,
 "nbformat_minor": 2
}
